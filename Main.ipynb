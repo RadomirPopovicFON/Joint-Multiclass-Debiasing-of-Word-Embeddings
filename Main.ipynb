{
 "cells": [
  {
   "cell_type": "code",
   "execution_count": 1,
   "metadata": {},
   "outputs": [
    {
     "name": "stderr",
     "output_type": "stream",
     "text": [
      "Using TensorFlow backend.\n"
     ]
    }
   ],
   "source": [
    "from Classes.embedding import *\n",
    "from Evaluation.code_evaluation import * \n",
    "from Evaluation.sentiment_analysis import *\n",
    "from Utils.methods import *\n",
    "\n",
    "import sys\n",
    "import seaborn as sns\n",
    "from matplotlib import pyplot as plt\n",
    "\n",
    "sns.set_style(\"whitegrid\")"
   ]
  },
  {
   "cell_type": "markdown",
   "metadata": {},
   "source": [
    "*Prior to running the experiments, embeddings have to be downloaded. In case this is already done, skip this step.*"
   ]
  },
  {
   "cell_type": "code",
   "execution_count": 14,
   "metadata": {},
   "outputs": [],
   "source": [
    "!{sys.executable} -m pip -q install gdown\n",
    "!gdown https://drive.google.com/uc?id=1DiICKbyfP6-JrRk7c9LU4ENgrsjucpFg\n",
    "!unzip datasets.zip -d Datasets/ && rm datasets.zip"
   ]
  },
  {
   "cell_type": "code",
   "execution_count": 3,
   "metadata": {},
   "outputs": [
    {
     "name": "stdout",
     "output_type": "stream",
     "text": [
      "Regular embedding successfully read. Shape: (76078, 300)\n"
     ]
    }
   ],
   "source": [
    "emb_names = ['word2vec', 'glove', 'fasttext']\n",
    "emb_name = emb_names[0]\n",
    "embedding = Word_Embedding(f'Datasets/embeddings/{emb_name}.txt')"
   ]
  },
  {
   "cell_type": "code",
   "execution_count": 4,
   "metadata": {},
   "outputs": [],
   "source": [
    "attribute_sets, attribute_sets_pairs, targets_sets = get_sets(embedding.words, target_set_reduction=True)\n",
    "sets = union_of_dictionaries(attribute_sets, targets_sets)\n",
    "subspace_words = get_def_seeds(sets)\n",
    "bias_combinations = get_combinations(sets, attribute_sets_pairs)\n",
    "bias_weat, bias_levels_d, d_values, p_values, m_before = weat_analysis(embedding, bias_combinations, sets, steps = 1000)\n",
    "target_at_dict = get_SW_dict(bias_weat, 0.7)"
   ]
  },
  {
   "cell_type": "markdown",
   "metadata": {},
   "source": [
    "# HardWEAT"
   ]
  },
  {
   "cell_type": "markdown",
   "metadata": {},
   "source": [
    "<img src=\"Images/hard_weat.gif\" width=\"900\" align=\"center\">"
   ]
  },
  {
   "cell_type": "code",
   "execution_count": 5,
   "metadata": {},
   "outputs": [
    {
     "name": "stdout",
     "output_type": "stream",
     "text": [
      "Start of neutralization, there is total of 75630 neutral words out of total 76078 words.\n",
      "Neutralization done in 1.479s, starting with neighbor thresholding and equidistancing...\n",
      "Finished with all gender subcategories\n",
      "Finished with all race subcategories\n",
      "Finished with all religion subcategories\n",
      "Equidistancing done in 14.836s.\n"
     ]
    }
   ],
   "source": [
    "hard_debiased = copy.deepcopy(embedding)\n",
    "hard_debiased.hard_weat(bias_levels_d, bias_combinations, subspace_words, sets, neighbors_threshold=0.5)\n",
    "hard_debias_weat, hard_debias_levels_d, _, _, _ = weat_analysis(hard_debiased, bias_combinations, sets, steps = 1000)"
   ]
  },
  {
   "cell_type": "markdown",
   "metadata": {},
   "source": [
    "# SoftWEAT"
   ]
  },
  {
   "cell_type": "markdown",
   "metadata": {},
   "source": [
    "<img src=\"Images/soft_weat.gif\" width=\"750\" align=\"center\">"
   ]
  },
  {
   "cell_type": "code",
   "execution_count": 6,
   "metadata": {},
   "outputs": [
    {
     "name": "stdout",
     "output_type": "stream",
     "text": [
      "Subclass male_terms finished.\n",
      "Subclass female_terms finished.\n",
      "Subclass black_names finished.\n",
      "Subclass white_names finished.\n",
      "Subclass islam_words finished.\n",
      "Subclass atheism_words finished.\n",
      "Subclass christianity_words finished.\n"
     ]
    }
   ],
   "source": [
    "soft_debiased = copy.deepcopy(embedding)\n",
    "lambda_parameter = 0.5\n",
    "soft_debiased.soft_weat(sets, target_at_dict, bias_combinations, l=lambda_parameter, nullspace_iterations=3)\n",
    "soft_debias_weat, soft_debias_levels_d, _, _, m_after  = weat_analysis(soft_debiased, bias_combinations, sets, steps = 1000)"
   ]
  },
  {
   "cell_type": "code",
   "execution_count": 7,
   "metadata": {},
   "outputs": [
    {
     "name": "stdout",
     "output_type": "stream",
     "text": [
      "Bias levels before debiasing: {'gender': 0.72, 'race': 0.53, 'religion': 0.48}.\n",
      "Bias levels after SoftWEAT: {'gender': 0.45, 'race': 0.25, 'religion': 0.22}.\n",
      "Bias levels after HardWEAT: {'gender': 0.0, 'race': 0.0, 'religion': 0.0}.\n"
     ]
    }
   ],
   "source": [
    "print(f'Bias levels before debiasing: {bias_levels_d}.')\n",
    "print(f'Bias levels after SoftWEAT: {soft_debias_levels_d}.')\n",
    "print(f'Bias levels after HardWEAT: {hard_debias_levels_d}.')"
   ]
  },
  {
   "cell_type": "markdown",
   "metadata": {},
   "source": [
    "## Mikolov and Rank Task Evaluation"
   ]
  },
  {
   "cell_type": "code",
   "execution_count": 8,
   "metadata": {},
   "outputs": [
    {
     "name": "stdout",
     "output_type": "stream",
     "text": [
      "Done original.\n",
      "Done hardweat.\n",
      "Done softweat.\n"
     ]
    }
   ],
   "source": [
    "embeddings_dict = {'original': embedding, 'hardweat': hard_debiased, 'softweat': soft_debiased}\n",
    "rank_results, mikolov_results = {}, {}\n",
    "\n",
    "for emb_type, emb_obj in embeddings_dict.items():\n",
    "    rank_results[emb_type] = rank_evaluation(emb_obj)\n",
    "    mikolov_results[emb_type] = mikolov_evaluation(emb_to_gensim(emb_obj))\n",
    "    print(f'Done {emb_type}.')"
   ]
  },
  {
   "cell_type": "code",
   "execution_count": 9,
   "metadata": {},
   "outputs": [],
   "source": [
    "rank_results_for_pd = []\n",
    "for rank_dataset in list(rank_results['original'].keys()) :\n",
    "    rank_results_for_pd.append([rank_dataset, rank_results['original'][rank_dataset], rank_results['softweat'][rank_dataset], rank_results['hardweat'][rank_dataset]])\n",
    "    \n",
    "mikolov_res_for_pd = []\n",
    "for mikolov_part in list(mikolov_results['original'].keys()) :\n",
    "    mikolov_res_for_pd.append([mikolov_part, mikolov_results['original'][mikolov_part], mikolov_results['softweat'][mikolov_part], mikolov_results['hardweat'][mikolov_part]])"
   ]
  },
  {
   "cell_type": "code",
   "execution_count": 10,
   "metadata": {},
   "outputs": [
    {
     "data": {
      "text/html": [
       "<div>\n",
       "<style scoped>\n",
       "    .dataframe tbody tr th:only-of-type {\n",
       "        vertical-align: middle;\n",
       "    }\n",
       "\n",
       "    .dataframe tbody tr th {\n",
       "        vertical-align: top;\n",
       "    }\n",
       "\n",
       "    .dataframe thead th {\n",
       "        text-align: right;\n",
       "    }\n",
       "</style>\n",
       "<table border=\"1\" class=\"dataframe\">\n",
       "  <thead>\n",
       "    <tr style=\"text-align: right;\">\n",
       "      <th></th>\n",
       "      <th>Key</th>\n",
       "      <th>Original</th>\n",
       "      <th>SoftWEAT</th>\n",
       "      <th>HardWEAT</th>\n",
       "    </tr>\n",
       "  </thead>\n",
       "  <tbody>\n",
       "    <tr>\n",
       "      <th>0</th>\n",
       "      <td>WS</td>\n",
       "      <td>69.33</td>\n",
       "      <td>69.58</td>\n",
       "      <td>65.21</td>\n",
       "    </tr>\n",
       "    <tr>\n",
       "      <th>1</th>\n",
       "      <td>RG65</td>\n",
       "      <td>74.94</td>\n",
       "      <td>75.13</td>\n",
       "      <td>66.02</td>\n",
       "    </tr>\n",
       "    <tr>\n",
       "      <th>2</th>\n",
       "      <td>RW</td>\n",
       "      <td>55.78</td>\n",
       "      <td>55.76</td>\n",
       "      <td>55.71</td>\n",
       "    </tr>\n",
       "    <tr>\n",
       "      <th>3</th>\n",
       "      <td>MEN</td>\n",
       "      <td>77.07</td>\n",
       "      <td>76.92</td>\n",
       "      <td>75.51</td>\n",
       "    </tr>\n",
       "    <tr>\n",
       "      <th>4</th>\n",
       "      <td>MTurk</td>\n",
       "      <td>67.14</td>\n",
       "      <td>66.53</td>\n",
       "      <td>66.13</td>\n",
       "    </tr>\n",
       "    <tr>\n",
       "      <th>5</th>\n",
       "      <td>SimLex</td>\n",
       "      <td>44.27</td>\n",
       "      <td>44.31</td>\n",
       "      <td>44.09</td>\n",
       "    </tr>\n",
       "    <tr>\n",
       "      <th>6</th>\n",
       "      <td>SimVerb</td>\n",
       "      <td>36.54</td>\n",
       "      <td>36.50</td>\n",
       "      <td>36.51</td>\n",
       "    </tr>\n",
       "  </tbody>\n",
       "</table>\n",
       "</div>"
      ],
      "text/plain": [
       "       Key  Original  SoftWEAT  HardWEAT\n",
       "0       WS     69.33     69.58     65.21\n",
       "1     RG65     74.94     75.13     66.02\n",
       "2       RW     55.78     55.76     55.71\n",
       "3      MEN     77.07     76.92     75.51\n",
       "4    MTurk     67.14     66.53     66.13\n",
       "5   SimLex     44.27     44.31     44.09\n",
       "6  SimVerb     36.54     36.50     36.51"
      ]
     },
     "execution_count": 10,
     "metadata": {},
     "output_type": "execute_result"
    }
   ],
   "source": [
    "pd.DataFrame(rank_results_for_pd, columns = ['Key','Original', 'SoftWEAT', 'HardWEAT'])"
   ]
  },
  {
   "cell_type": "code",
   "execution_count": 11,
   "metadata": {},
   "outputs": [
    {
     "data": {
      "text/html": [
       "<div>\n",
       "<style scoped>\n",
       "    .dataframe tbody tr th:only-of-type {\n",
       "        vertical-align: middle;\n",
       "    }\n",
       "\n",
       "    .dataframe tbody tr th {\n",
       "        vertical-align: top;\n",
       "    }\n",
       "\n",
       "    .dataframe thead th {\n",
       "        text-align: right;\n",
       "    }\n",
       "</style>\n",
       "<table border=\"1\" class=\"dataframe\">\n",
       "  <thead>\n",
       "    <tr style=\"text-align: right;\">\n",
       "      <th></th>\n",
       "      <th>Key</th>\n",
       "      <th>Original</th>\n",
       "      <th>SoftWEAT</th>\n",
       "      <th>HardWEAT</th>\n",
       "    </tr>\n",
       "  </thead>\n",
       "  <tbody>\n",
       "    <tr>\n",
       "      <th>0</th>\n",
       "      <td>capital-common-countries</td>\n",
       "      <td>0.27</td>\n",
       "      <td>0.27</td>\n",
       "      <td>0.25</td>\n",
       "    </tr>\n",
       "    <tr>\n",
       "      <th>1</th>\n",
       "      <td>capital-world</td>\n",
       "      <td>0.18</td>\n",
       "      <td>0.15</td>\n",
       "      <td>0.16</td>\n",
       "    </tr>\n",
       "    <tr>\n",
       "      <th>2</th>\n",
       "      <td>currency</td>\n",
       "      <td>0.21</td>\n",
       "      <td>0.21</td>\n",
       "      <td>0.21</td>\n",
       "    </tr>\n",
       "    <tr>\n",
       "      <th>3</th>\n",
       "      <td>city-in-state</td>\n",
       "      <td>0.15</td>\n",
       "      <td>0.15</td>\n",
       "      <td>0.15</td>\n",
       "    </tr>\n",
       "    <tr>\n",
       "      <th>4</th>\n",
       "      <td>family</td>\n",
       "      <td>0.85</td>\n",
       "      <td>0.85</td>\n",
       "      <td>0.32</td>\n",
       "    </tr>\n",
       "    <tr>\n",
       "      <th>5</th>\n",
       "      <td>gram1-adjective-to-adverb</td>\n",
       "      <td>0.31</td>\n",
       "      <td>0.31</td>\n",
       "      <td>0.31</td>\n",
       "    </tr>\n",
       "    <tr>\n",
       "      <th>6</th>\n",
       "      <td>gram2-opposite</td>\n",
       "      <td>0.45</td>\n",
       "      <td>0.45</td>\n",
       "      <td>0.44</td>\n",
       "    </tr>\n",
       "    <tr>\n",
       "      <th>7</th>\n",
       "      <td>gram3-comparative</td>\n",
       "      <td>0.92</td>\n",
       "      <td>0.92</td>\n",
       "      <td>0.92</td>\n",
       "    </tr>\n",
       "    <tr>\n",
       "      <th>8</th>\n",
       "      <td>gram4-superlative</td>\n",
       "      <td>0.91</td>\n",
       "      <td>0.91</td>\n",
       "      <td>0.91</td>\n",
       "    </tr>\n",
       "    <tr>\n",
       "      <th>9</th>\n",
       "      <td>gram5-present-participle</td>\n",
       "      <td>0.79</td>\n",
       "      <td>0.79</td>\n",
       "      <td>0.79</td>\n",
       "    </tr>\n",
       "    <tr>\n",
       "      <th>10</th>\n",
       "      <td>gram6-nationality-adjective</td>\n",
       "      <td>0.22</td>\n",
       "      <td>0.22</td>\n",
       "      <td>0.22</td>\n",
       "    </tr>\n",
       "    <tr>\n",
       "      <th>11</th>\n",
       "      <td>gram7-past-tense</td>\n",
       "      <td>0.67</td>\n",
       "      <td>0.67</td>\n",
       "      <td>0.67</td>\n",
       "    </tr>\n",
       "    <tr>\n",
       "      <th>12</th>\n",
       "      <td>gram8-plural</td>\n",
       "      <td>0.91</td>\n",
       "      <td>0.91</td>\n",
       "      <td>0.86</td>\n",
       "    </tr>\n",
       "    <tr>\n",
       "      <th>13</th>\n",
       "      <td>gram9-plural-verbs</td>\n",
       "      <td>0.68</td>\n",
       "      <td>0.68</td>\n",
       "      <td>0.68</td>\n",
       "    </tr>\n",
       "    <tr>\n",
       "      <th>14</th>\n",
       "      <td>Total accuracy</td>\n",
       "      <td>0.57</td>\n",
       "      <td>0.57</td>\n",
       "      <td>0.54</td>\n",
       "    </tr>\n",
       "  </tbody>\n",
       "</table>\n",
       "</div>"
      ],
      "text/plain": [
       "                            Key  Original  SoftWEAT  HardWEAT\n",
       "0      capital-common-countries      0.27      0.27      0.25\n",
       "1                 capital-world      0.18      0.15      0.16\n",
       "2                      currency      0.21      0.21      0.21\n",
       "3                 city-in-state      0.15      0.15      0.15\n",
       "4                        family      0.85      0.85      0.32\n",
       "5     gram1-adjective-to-adverb      0.31      0.31      0.31\n",
       "6                gram2-opposite      0.45      0.45      0.44\n",
       "7             gram3-comparative      0.92      0.92      0.92\n",
       "8             gram4-superlative      0.91      0.91      0.91\n",
       "9      gram5-present-participle      0.79      0.79      0.79\n",
       "10  gram6-nationality-adjective      0.22      0.22      0.22\n",
       "11             gram7-past-tense      0.67      0.67      0.67\n",
       "12                 gram8-plural      0.91      0.91      0.86\n",
       "13           gram9-plural-verbs      0.68      0.68      0.68\n",
       "14               Total accuracy      0.57      0.57      0.54"
      ]
     },
     "execution_count": 11,
     "metadata": {},
     "output_type": "execute_result"
    }
   ],
   "source": [
    "pd.DataFrame(mikolov_res_for_pd, columns = ['Key','Original', 'SoftWEAT', 'HardWEAT'])"
   ]
  },
  {
   "cell_type": "markdown",
   "metadata": {},
   "source": [
    "## Sentiment Analysis Task Evaluation"
   ]
  },
  {
   "cell_type": "code",
   "execution_count": 12,
   "metadata": {},
   "outputs": [
    {
     "name": "stdout",
     "output_type": "stream",
     "text": [
      "Training shape: (821, 50)\n",
      "Test shape: (290, 50)\n",
      "Shape of modified test input: (100, 50)\n",
      "Shape of modified test input: (100, 50)\n",
      "WARNING:tensorflow:From /Users/Radomir/anaconda3/lib/python3.7/site-packages/tensorflow/python/framework/op_def_library.py:263: colocate_with (from tensorflow.python.framework.ops) is deprecated and will be removed in a future version.\n",
      "Instructions for updating:\n",
      "Colocations handled automatically by placer.\n",
      "WARNING:tensorflow:From /Users/Radomir/anaconda3/lib/python3.7/site-packages/tensorflow/python/ops/math_ops.py:3066: to_int32 (from tensorflow.python.ops.math_ops) is deprecated and will be removed in a future version.\n",
      "Instructions for updating:\n",
      "Use tf.cast instead.\n",
      "F1 score for original embedding, 1.model: 0.77\n",
      "F1 score for original embedding, 2.model: 0.72\n",
      "F1 score for original embedding, 3.model: 0.73\n",
      "F1 score for original embedding, 4.model: 0.73\n",
      "F1 score for original embedding, 5.model: 0.71\n",
      "F1 score for original embedding, 6.model: 0.71\n",
      "________________________________________________________________\n",
      "F1 score for hardweat embedding, 1.model: 0.74\n",
      "F1 score for hardweat embedding, 2.model: 0.74\n",
      "F1 score for hardweat embedding, 3.model: 0.72\n",
      "F1 score for hardweat embedding, 4.model: 0.74\n",
      "F1 score for hardweat embedding, 5.model: 0.7\n",
      "F1 score for hardweat embedding, 6.model: 0.75\n",
      "________________________________________________________________\n",
      "F1 score for softweat embedding, 1.model: 0.71\n",
      "F1 score for softweat embedding, 2.model: 0.71\n",
      "F1 score for softweat embedding, 3.model: 0.71\n",
      "F1 score for softweat embedding, 4.model: 0.74\n",
      "F1 score for softweat embedding, 5.model: 0.73\n",
      "F1 score for softweat embedding, 6.model: 0.74\n",
      "________________________________________________________________\n"
     ]
    }
   ],
   "source": [
    "dictionary_categories, parameters_dict, target_sets_dict = get_sent_analysis_sets()\n",
    "target_pairs = ['islam_christianity', 'male_female', 'black_white']\n",
    "target_pair = target_pairs[0]\n",
    "datasets_and_dicts = get_dataset_and_dicts( target_sets_dict[target_pair][emb_name], parameters_dict)\n",
    "results = compare_embeddings(datasets_and_dicts, embeddings_dict, parameters_dict)"
   ]
  },
  {
   "cell_type": "code",
   "execution_count": 13,
   "metadata": {},
   "outputs": [
    {
     "name": "stderr",
     "output_type": "stream",
     "text": [
      "/Users/Radomir/anaconda3/lib/python3.7/site-packages/scipy/stats/stats.py:1713: FutureWarning: Using a non-tuple sequence for multidimensional indexing is deprecated; use `arr[tuple(seq)]` instead of `arr[seq]`. In the future this will be interpreted as an array index, `arr[np.array(seq)]`, which will result either in an error or a different result.\n",
      "  return np.add.reduce(sorted[indexer] * weights, axis=axis) / sumval\n"
     ]
    },
    {
     "data": {
      "image/png": "[encoded data removed]",
      "text/plain": [
       "<Figure size 576x432 with 1 Axes>"
      ]
     },
     "metadata": {
      "needs_background": "light"
     },
     "output_type": "display_data"
    }
   ],
   "source": [
    "original_pol = [r for res in results['original'] for r in res[0]]\n",
    "softweat_pol = [r for res in results['softweat'] for r in res[0]]\n",
    "hardweat_pol = [r for res in results['hardweat'] for r in res[0]]\n",
    "constant = 0.025\n",
    "all_values = np.array([original_pol, softweat_pol, hardweat_pol]).flatten()\n",
    "min_value, max_value = min(all_values)-constant, max(all_values)+constant\n",
    "\n",
    "plt.figure(figsize=(8, 6))\n",
    "set_names = target_pair.split('_')\n",
    "ax = sns.violinplot(data=[original_pol, softweat_pol, hardweat_pol], palette=['black', '#ffa500', 'forestgreen'])\n",
    "ax_range = np.linspace(min_value, max_value, 11)\n",
    "ax.set_xticklabels(['Original', 'SoftWEAT', 'HardWEAT'])\n",
    "ax.set_ylim([min(ax_range), max(ax_range)])\n",
    "ax.set_yticks(ax_range)\n",
    "_ = ax.set_yticklabels([set_names[1]] + list(np.round(np.linspace(min_value, max_value, 9), 3)) + [set_names[0]])"
   ]
  }
 ],
 "metadata": {
  "kernelspec": {
   "display_name": "Python 3",
   "language": "python",
   "name": "python3"
  },
  "language_info": {
   "codemirror_mode": {
    "name": "ipython",
    "version": 3
   },
   "file_extension": ".py",
   "mimetype": "text/x-python",
   "name": "python",
   "nbconvert_exporter": "python",
   "pygments_lexer": "ipython3",
   "version": "3.7.1"
  }
 },
 "nbformat": 4,
 "nbformat_minor": 4
}
